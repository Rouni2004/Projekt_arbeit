{
 "cells": [
  {
   "cell_type": "code",
   "id": "initial_id",
   "metadata": {
    "collapsed": true,
    "ExecuteTime": {
     "end_time": "2025-05-06T13:15:26.340746Z",
     "start_time": "2025-05-06T13:14:54.399215Z"
    }
   },
   "source": [
    "from langchain_ollama import OllamaLLM\n",
    "from langchain.prompts import PromptTemplate\n",
    "\n",
    "# LLM-Setup\n",
    "llm = OllamaLLM(\n",
    "    base_url=\"http://134.96.217.20:53100\",  # anpassen, falls nötig\n",
    "    model=\"gemma:7b\",                       # z.B. gemma:7b, mistral-7b, llama3-70b\n",
    "    temperature=0.7,\n",
    "    top_p=0.9,\n",
    "    top_k=20,\n",
    "    repeat_penalty=1.2,\n",
    "    presence_penalty=1.5\n",
    ")\n",
    "\n",
    "template_kids = PromptTemplate(\n",
    "    input_variables=[\"frage\"],\n",
    "    template=(\n",
    "        \"Du bist ein freundlicher Assistent, der Kindern auf ihre Fragen antwortet.\\n\"\n",
    "        \"Erkläre Dinge in einfacher, kindgerechter Sprache, damit Kinder im Alter von 6 bis 10 Jahren sie gut verstehen können.\\n\"\n",
    "        \"Sei positiv, ermutigend und benutze kurze, klare Sätze.\\n\"\n",
    "        \"Wenn es passt, darfst du Beispiele oder kleine Vergleiche verwenden, damit es noch besser verständlich wird.\\n\\n\"\n",
    "        \"Frage: {frage}\\n\"\n",
    "        \"Antwort:\"\n",
    "    )\n",
    ")\n",
    "\n",
    "print(\"🤖 Chatbot gestartet! Tipp 'exit' oder 'quit' zum Beenden.\\n\")\n",
    "\n",
    "# Chat-Schleife\n",
    "while True:\n",
    "    user_input = input(\"Du: \")\n",
    "    if user_input.lower() in [\"exit\", \"quit\"]:\n",
    "        print(\"🤖 Bot: Auf Wiedersehen!\")\n",
    "        break\n",
    "    try:\n",
    "        response = llm.invoke(user_input)\n",
    "        print(\"🤖 Bot:\", response)\n",
    "    except Exception as e:\n",
    "        print(f\"⚠️ Fehler: {e}\")\n"
   ],
   "outputs": [
    {
     "name": "stdout",
     "output_type": "stream",
     "text": [
      "🤖 Chatbot gestartet! Tipp 'exit' oder 'quit' zum Beenden.\n",
      "\n",
      "🤖 Bot: Saarbruck ist eine Stadt in Südwestdeutschland an der Grenze zu Frankreich.\n",
      "🤖 Bot: Auf Wiedersehen!\n"
     ]
    }
   ],
   "execution_count": 2
  }
 ],
 "metadata": {
  "kernelspec": {
   "display_name": "Python 3",
   "language": "python",
   "name": "python3"
  },
  "language_info": {
   "codemirror_mode": {
    "name": "ipython",
    "version": 2
   },
   "file_extension": ".py",
   "mimetype": "text/x-python",
   "name": "python",
   "nbconvert_exporter": "python",
   "pygments_lexer": "ipython2",
   "version": "2.7.6"
  }
 },
 "nbformat": 4,
 "nbformat_minor": 5
}
