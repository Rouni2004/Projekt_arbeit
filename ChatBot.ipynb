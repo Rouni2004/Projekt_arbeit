{
 "cells": [
  {
   "metadata": {
    "ExecuteTime": {
     "end_time": "2025-05-14T11:02:16.763810Z",
     "start_time": "2025-05-14T11:00:10.809472Z"
    }
   },
   "cell_type": "code",
   "source": [
    "import os\n",
    "from bs4 import BeautifulSoup\n",
    "from langchain.docstore.document import Document\n",
    "from langchain.prompts import PromptTemplate\n",
    "from langchain.chains import RetrievalQA\n",
    "from langchain_community.vectorstores import Chroma\n",
    "from langchain.text_splitter import RecursiveCharacterTextSplitter\n",
    "from langchain.embeddings import HuggingFaceEmbeddings\n",
    "from langchain_ollama import OllamaLLM\n",
    "\n",
    "# === XML-Dateien einlesen ===\n",
    "xml_files = [\"moduldb-pi2.xml\", \"Modulbook_pi2_de.xml\"]\n",
    "docs = []\n",
    "\n",
    "for xml_file in xml_files:\n",
    "    with open(xml_file, \"r\", encoding=\"ISO-8859-1\") as f:\n",
    "        xml_content = f.read()\n",
    "\n",
    "    soup = BeautifulSoup(xml_content, \"xml\")\n",
    "    modules = soup.find_all(\"moduleheader\")\n",
    "\n",
    "    for module in modules:\n",
    "        title = module.find(\"title\").text.strip() if module.find(\"title\") else \"Kein Titel\"\n",
    "        cid = module.find(\"cid\").text.strip() if module.find(\"cid\") else \"Kein Kürzel\"\n",
    "        cp = module.find(\"cp\").text.strip() if module.find(\"cp\") else \"?\"\n",
    "        convenor = module.find(\"convenor\").text.strip() if module.find(\"convenor\") else \"?\"\n",
    "\n",
    "        types = module.find_all(\"type\")\n",
    "        ctypes = \", \".join(t.text for t in types) if types else \"Unbekannt\"\n",
    "\n",
    "        content = f\"\"\"\n",
    "Modul: {title}\n",
    "Kürzel: {cid}\n",
    "Leistungspunkte (ECTS): {cp}\n",
    "Verantwortlich: {convenor}\n",
    "Veranstaltungstyp(en): {ctypes}\n",
    "\"\"\"\n",
    "        docs.append(Document(page_content=content.strip()))\n",
    "\n",
    "# Debug: Beispielinhalt zeigen\n",
    "if docs:\n",
    "    print(\"📄 Beispiel-Inhalt:\\n\", docs[0].page_content[:500])\n",
    "else:\n",
    "    print(\"⚠️ Keine Module gefunden.\")\n",
    "\n",
    "# === Dokumente splitten ===\n",
    "splitter = RecursiveCharacterTextSplitter(chunk_size=400, chunk_overlap=50)\n",
    "chunks = splitter.split_documents(docs)\n",
    "\n",
    "# === Embeddings & Chroma ===\n",
    "embeddings = HuggingFaceEmbeddings(model_name=\"sentence-transformers/all-MiniLM-L6-v2\")\n",
    "db = Chroma.from_documents(chunks, embeddings)\n",
    "retriever = db.as_retriever(search_type=\"similarity\", search_kwargs={\"k\": 1})\n",
    "\n",
    "# === LLM über Ollama (Server) ===\n",
    "llm = OllamaLLM(\n",
    "    base_url=\"http://134.96.217.20:53100\",\n",
    "    model=\"llama3-70b\",\n",
    "    temperature=0.5,\n",
    "    top_p=0.8,\n",
    "    top_k=10,\n",
    "    repeat_penalty=1.1,\n",
    "    presence_penalty=1.2\n",
    ")\n",
    "\n",
    "# === Prompt ===\n",
    "prompt = PromptTemplate(\n",
    "    input_variables=[\"context\", \"question\"],\n",
    "    template=(\n",
    "        \"Hier ist ein Auszug aus Moduldaten:\\n\"\n",
    "        \"{context}\\n\\n\"\n",
    "        \"Beantworte bitte diese Frage auf einfache Weise:\\n\"\n",
    "        \"{question}\\n\\n\"\n",
    "        \"Antwort:\"\n",
    "    )\n",
    ")\n",
    "\n",
    "# === QA-Kette ===\n",
    "qa_chain = RetrievalQA.from_chain_type(\n",
    "    llm=llm,\n",
    "    retriever=retriever,\n",
    "    chain_type=\"stuff\",\n",
    "    chain_type_kwargs={\"prompt\": prompt}\n",
    ")\n",
    "\n",
    "# === Chat starten ===\n",
    "print(\"🤖 Chatbot gestartet! Tipp 'exit' oder 'quit' zum Beenden.\\n\")\n",
    "while True:\n",
    "    user_input = input(\"Du: \")\n",
    "    if user_input.lower() in [\"exit\", \"quit\"]:\n",
    "        print(\"🤖 Bot: Auf Wiedersehen!\")\n",
    "        break\n",
    "    try:\n",
    "        response = qa_chain.run(user_input)\n",
    "        print(\"🤖 Bot:\", response)\n",
    "    except Exception as e:\n",
    "        print(f\"⚠️ Fehler: {e}\")\n"
   ],
   "id": "b8a0a4db83fd0d37",
   "outputs": [
    {
     "name": "stdout",
     "output_type": "stream",
     "text": [
      "📄 Beispiel-Inhalt:\n",
      " Modul: Bachelor-Abschlussarbeit\n",
      "Kürzel: PIB-BT\n",
      "Leistungspunkte (ECTS): 12\n",
      "Verantwortlich: Studienleitung\n",
      "Veranstaltungstyp(en): Unbekannt\n",
      "🤖 Chatbot gestartet! Tipp 'exit' oder 'quit' zum Beenden.\n",
      "\n"
     ]
    },
    {
     "name": "stderr",
     "output_type": "stream",
     "text": [
      "C:\\Users\\ronyb\\AppData\\Local\\Temp\\ipykernel_17004\\4246006473.py:94: LangChainDeprecationWarning: The method `Chain.run` was deprecated in langchain 0.1.0 and will be removed in 1.0. Use :meth:`~invoke` instead.\n",
      "  response = qa_chain.run(user_input)\n"
     ]
    },
    {
     "name": "stdout",
     "output_type": "stream",
     "text": [
      "🤖 Bot: Der Inhalt von \"Informatik 1\" oder speziell dem Modul \"Theoretische Informatik\" (PIB-TI) kann je nach Lehrplan und Universität variieren. Allerdings umfasst Theoretische Informatik typischerweise Themen wie:\n",
      "\n",
      "- Automatentheorie (z.B. endliche Automaten, Turingmaschinen)\n",
      "- Formale Sprachen und Grammatiken\n",
      "- Berechenbarkeitstheorie\n",
      "\n",
      "Dieses Modul soll den Studierenden die grundlegenden theoretischen Konzepte der Informatik vermitteln, die für das Verständnis vieler anderer Gebiete der Informatik von zentraler Bedeutung sind.\n",
      "🤖 Bot: Das ist nicht möglich, da der Auszug keine Informationen über \"Informatik 1\" enthält. Der Auszug bezieht sich auf das Modul \"Informationssicherheit\" (PIB-ISEC) mit 3 ECTS-Leistungspunkten. Es gibt keine Informationen über ein Modul namens \"Informatik 1\".\n",
      "🤖 Bot: Auf Wiedersehen!\n"
     ]
    }
   ],
   "execution_count": 3
  }
 ],
 "metadata": {
  "kernelspec": {
   "display_name": "Python 3",
   "language": "python",
   "name": "python3"
  },
  "language_info": {
   "codemirror_mode": {
    "name": "ipython",
    "version": 2
   },
   "file_extension": ".py",
   "mimetype": "text/x-python",
   "name": "python",
   "nbconvert_exporter": "python",
   "pygments_lexer": "ipython2",
   "version": "2.7.6"
  }
 },
 "nbformat": 4,
 "nbformat_minor": 5
}
