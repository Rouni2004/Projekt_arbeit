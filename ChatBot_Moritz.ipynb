{
 "cells": [
  {
   "metadata": {},
   "cell_type": "markdown",
   "source": "## Einlesen der Daten und Definition Chatbot",
   "id": "71bc7185fe938f61"
  },
  {
   "metadata": {
    "ExecuteTime": {
     "end_time": "2025-06-05T15:04:55.401304Z",
     "start_time": "2025-06-05T15:04:53.413597Z"
    }
   },
   "cell_type": "code",
   "source": [
    "from langchain.docstore.document import Document\n",
    "from langchain.prompts import PromptTemplate\n",
    "from langchain.chains import RetrievalQA\n",
    "from langchain_community.vectorstores import Chroma\n",
    "from langchain.text_splitter import RecursiveCharacterTextSplitter\n",
    "from langchain_huggingface import HuggingFaceEmbeddings\n",
    "from langchain_ollama import OllamaLLM\n",
    "from bs4 import BeautifulSoup\n",
    "\n",
    "# === Inhalte.txt laden ===\n",
    "docs = []\n",
    "chunks = []\n",
    "with open(\"Inhalte.txt\", \"r\", encoding=\"utf-8\") as f:\n",
    "    content = f.read()\n",
    "\n",
    "blocks = content.split(\"============================================================\")\n",
    "for block in blocks:\n",
    "    block = block.strip()\n",
    "    if len(block) > 100:\n",
    "        docs.append(Document(page_content=block))\n",
    "\n",
    "print(f\"📄 Datei 'Inhalte.txt' geladen. Module erkannt: {len(docs)}\")\n",
    "\n",
    "# === In kleinere Chunks aufteilen (wenn nötig) ===\n",
    "splitter = RecursiveCharacterTextSplitter(chunk_size=600, chunk_overlap=60)\n",
    "\n",
    "# manual chunking\n",
    "for doc in docs:\n",
    "    first_line = doc.page_content.split(\"\\n\")[0]  # e.g., \"Modul: Betriebssystemeinführung\"\n",
    "    vorlesung = first_line.split(\":\", 1)[1].strip().upper()\n",
    "    for chunk_text in splitter.split_text(doc.page_content):\n",
    "        # Prepend the first line to each chunk and append it as well\n",
    "        full_chunk = f\"{vorlesung}\\n{chunk_text}\\n{vorlesung}\"\n",
    "        chunks.append(Document(\n",
    "            page_content=full_chunk,\n",
    "            metadata={\"modul\": vorlesung.lower()}\n",
    "        ))\n",
    "\n",
    "# === Modulbook-pi2 laden ===\n",
    "xml_files = [\"moduldb-pi2.xml\", \"modulbook_pi2_de.xml\"]\n",
    "docs = []\n",
    "\n",
    "for xml_file in xml_files:\n",
    "    with open(xml_file, \"r\", encoding=\"ISO-8859-1\") as f:\n",
    "        xml_content = f.read()\n",
    "\n",
    "    soup = BeautifulSoup(xml_content, \"xml\")\n",
    "    modules = soup.find_all(\"moduleheader\")\n",
    "\n",
    "    for module in modules:\n",
    "        title = module.find(\"title\").text.strip() if module.find(\"title\") else \"Kein Titel\"\n",
    "        cid = module.find(\"cid\").text.strip() if module.find(\"cid\") else \"Kein Kürzel\"\n",
    "        cp = module.find(\"cp\").text.strip() if module.find(\"cp\") else \"?\"\n",
    "        convenor = module.find(\"convenor\").text.strip() if module.find(\"convenor\") else \"?\"\n",
    "\n",
    "        types = module.find_all(\"type\")\n",
    "        ctypes = \", \".join(t.text for t in types) if types else \"Unbekannt\"\n",
    "\n",
    "        content = f\"\"\"\n",
    "Modul: {title}\n",
    "Kürzel: {cid}\n",
    "Leistungspunkte (ECTS): {cp}\n",
    "Verantwortlich: {convenor}\n",
    "Veranstaltungstyp(en): {ctypes}\n",
    "\"\"\"\n",
    "        docs.append(Document(page_content=content.strip()))\n",
    "\n",
    "print(f\"{len(docs)} Dokumente aus xml Dateien extrahiert.\")\n",
    "chunks.extend(splitter.split_documents(docs))\n",
    "\n",
    "\n",
    "# === Vektordatenbank mit Embeddings aufbauen ===\n",
    "embeddings = HuggingFaceEmbeddings(model_name=\"multi-qa-mpnet-base-dot-v1\") #  sentence-transformers/all-mpnet-base-v2\n",
    "db = Chroma.from_documents(chunks, embeddings)\n",
    "retriever = db.as_retriever(search_type=\"similarity\", search_kwargs={\"k\": 7})\n",
    "\n",
    "# === LLM konfigurieren ===\n",
    "llm = OllamaLLM(\n",
    "    base_url=\"http://134.96.217.20:53100\",  # ggf. deine Adresse\n",
    "    model=\"llama3-70b\",  # oder mistral-7b je nach ollama setup\n",
    "    temperature=0.3\n",
    ")\n",
    "\n",
    "# === Prompt definieren ===\n",
    "prompt = PromptTemplate(\n",
    "    input_variables=[\"context\", \"question\"],\n",
    "    template=(\n",
    "        \"Hier ist ein Auszug aus Modulbeschreibungen:\\n\"\n",
    "        \"{context}\\n\\n\"\n",
    "        \"Beantworte die folgende Frage **nur auf Basis dieser Informationen**. \"\n",
    "        \"Wenn die Antwort nicht im Text steht, sage: 'Nicht enthalten'.\\n\\n\"\n",
    "        \"Frage: {question}\\n\\n\"\n",
    "        \"Antwort:\"\n",
    "    )\n",
    ")\n",
    "\n",
    "# === Retrieval-QA-Kette starten ===\n",
    "qa_chain = RetrievalQA.from_chain_type(\n",
    "    llm=llm,\n",
    "    retriever=retriever,\n",
    "    chain_type=\"stuff\",\n",
    "    chain_type_kwargs={\"prompt\": prompt}\n",
    ")"
   ],
   "id": "bf271875220cea2d",
   "outputs": [
    {
     "name": "stdout",
     "output_type": "stream",
     "text": [
      "📄 Datei 'Inhalte.txt' geladen. Module erkannt: 3\n",
      "121 Dokumente aus xml Dateien extrahiert.\n"
     ]
    }
   ],
   "execution_count": 4
  },
  {
   "metadata": {},
   "cell_type": "markdown",
   "source": "## Run Chatbot",
   "id": "e2402b81884772d3"
  },
  {
   "metadata": {
    "ExecuteTime": {
     "end_time": "2025-06-05T15:03:25.171651Z",
     "start_time": "2025-06-05T15:02:08.203037Z"
    }
   },
   "cell_type": "code",
   "source": [
    "# === Chat starten ===\n",
    "print(\"\\n🤖 Chatbot gestartet! Tipp 'exit' oder 'quit' zum Beenden.\\n\")\n",
    "while True:\n",
    "    user_input = input(\"Du: \")\n",
    "    if user_input.lower() in [\"exit\", \"quit\"]:\n",
    "        print(\"🤖 Bot: Auf Wiedersehen!\")\n",
    "        break\n",
    "    try:\n",
    "        response = qa_chain.invoke(user_input)\n",
    "        print(\"🤖 Bot:\", response)\n",
    "    except Exception as e:\n",
    "        print(\"⚠️ Fehler:\", e)\n"
   ],
   "id": "4eb85d0fe3cb815b",
   "outputs": [
    {
     "name": "stdout",
     "output_type": "stream",
     "text": [
      "\n",
      "🤖 Chatbot gestartet! Tipp 'exit' oder 'quit' zum Beenden.\n",
      "\n",
      "🤖 Bot: {'query': 'Welche Literatur benötige ich für Betriebssystemeinführung?', 'result': 'Für das Modul \"Betriebssystemeinführung\" werden folgende Literaturquellen empfohlen:\\n- Powers, Peek, O’Reilly, Loukides: *Unix Power Tools*, O’Reilly, 2002\\n- Rosenblatt: *Learning the Korn Shell*, O’Reilly, 1995\\n- Stapelberg: *UNIX SYSTEM V.4*, Addison-Wesley, 1995\\n- Patrick Ditchen: *Shell-Skript Programmierung*, mitp, 2003\\n- Christian Meißer: *Bash – Arbeiten und programmieren mit der Shell*, open source PRESS, 2011'}\n",
      "🤖 Bot: Auf Wiedersehen!\n"
     ]
    }
   ],
   "execution_count": 3
  },
  {
   "metadata": {},
   "cell_type": "markdown",
   "source": "## Test",
   "id": "252498f07224c5e8"
  },
  {
   "metadata": {
    "ExecuteTime": {
     "end_time": "2025-06-05T15:01:49.911031Z",
     "start_time": "2025-06-05T15:01:49.859846Z"
    }
   },
   "cell_type": "code",
   "source": "retriever.invoke(\"Literatur Betriebssystemeinführung?\")",
   "id": "84a695b406aba1ce",
   "outputs": [
    {
     "data": {
      "text/plain": [
       "[Document(metadata={'modul': 'betriebswirtschaftslehre'}, page_content='BETRIEBSWIRTSCHAFTSLEHRE\\nLiteratur:\\n- Jean-Paul Thommen, Ann-Kristin Achleitner: *Allgemeine Betriebswirtschaftslehre*, Springer\\n- Thomas Straub: *Einführung in die Allgemeine Betriebswirtschaftslehre*, Pearson\\n- Henner Schierenbeck, Claudia Wöhle: *Grundzüge der Betriebswirtschaftslehre*, Oldenbourg\\n- Han\\nBETRIEBSWIRTSCHAFTSLEHRE'),\n",
       " Document(metadata={'modul': 'betriebssystemeinführung'}, page_content='BETRIEBSSYSTEMEINFÜHRUNG\\nLiteratur:\\n- Powers, Peek, O’Reilly, Loukides: *Unix Power Tools*, O’Reilly, 2002\\n- Rosenblatt: *Learning the Korn Shell*, O’Reilly, 1995\\n- Stapelberg: *UNIX SYSTEM V.4*, Addison-Wesley, 1995\\n- Patrick Ditchen: *Shell-Skript Programmierung*, mitp, 2003\\n- Christian Meißer: *Bash – Arbeiten und programmieren mit der Shell*, open source PRESS, 2011\\n\\nAngeboten in folgenden Semestern:\\nWS 2024/25, WS 2023/24, WS 2022/23, WS 2021/22, WS 2020/21\\nBETRIEBSSYSTEMEINFÜHRUNG'),\n",
       " Document(metadata={'modul': 'betriebssystemeinführung'}, page_content='BETRIEBSSYSTEMEINFÜHRUNG\\nArbeitsaufwand:\\n- Präsenzzeit: 30 Veranstaltungsstunden (22,5 Zeitstunden)\\n- Gesamtumfang: 90 Stunden (bei 3 ECTS)\\n- Vor- und Nachbereitung + Prüfungsvorbereitung: 67,5 Stunden\\n\\nEmpfohlene Voraussetzungen:\\nKeine\\n\\nWird empfohlen als Grundlage für:\\n- Automatisierte Softwareentwicklung (PIB-ASE)\\n- Grundlagen der Webentwicklung (PIB-WEB)\\n\\nModulverantwortung: Prof. Dr. Markus Esch\\nDozent/innen: Andreas Schaffhauser, M.Sc.\\nBETRIEBSSYSTEMEINFÜHRUNG'),\n",
       " Document(metadata={'modul': 'business comm. and intercultural competence'}, page_content='BUSINESS COMM. AND INTERCULTURAL COMPETENCE\\nLiteratur:\\n- Susanne Ley, Christine Sick: *prep course English*, m&eLanguageLearningPortal@CAS (A1–B1)\\n- Christine Sick: *TechnoPlus Englisch VocabApp*, EUROKEY (alle Niveaus)\\n- Christine Sick, mit Miriam Lange: *TechnoPlus Englisch 2.0*, EUROKEY (B1–B2+)\\n- Weitere empfohlene Materialien werden im Kurs bereitgestellt\\n\\nAngeboten in folgenden Semestern:\\nWS 2024/25, WS 2023/24, WS 2022/23, WS 2021/22, WS 2020/21\\nBUSINESS COMM. AND INTERCULTURAL COMPETENCE'),\n",
       " Document(metadata={'modul': 'betriebssystemeinführung'}, page_content='BETRIEBSSYSTEMEINFÜHRUNG\\nInhalte:\\n- Unix/Linux-Grundlagen:\\n  - Dateisystem\\n  - Zugriffrechte (Dateien, Prozesse)\\n  - Ein-/Ausgabe-Konzept\\n  - Manual Pages und Hilfequellen\\n- Die Shell als Kommandointerpreter:\\n  - Kommandozeilenaufbau\\n  - Metazeichen, Quotierung\\n  - System- und Umgebungsvariablen\\n  - Shellprofile und Anpassung\\n  - Gruppierung von Kommandos\\n- Die 20 wichtigsten Unix/Linux-Kommandos\\n- Shell-Programmierung:\\n  - Kontrollstrukturen, Variablen, Übergabeparameter\\n  - Arithmetik und reguläre Ausdrücke\\n  - Aufbau und Entwicklung von Shellskripten\\n- Entwicklungs- und Prototyping-Werkzeuge:\\nBETRIEBSSYSTEMEINFÜHRUNG'),\n",
       " Document(metadata={'modul': 'betriebssystemeinführung'}, page_content='BETRIEBSSYSTEMEINFÜHRUNG\\nLernziele:\\nDie Studierenden können nach erfolgreichem Abschluss dieses Moduls Unix/Linux-Systeme zur Lösung informationstechnischer Problemstellungen professionell nutzen. Sie automatisieren Aufgaben mit Shell-Skripten und machen diese portabel innerhalb der Unix/Linux-Welt.\\nBETRIEBSSYSTEMEINFÜHRUNG'),\n",
       " Document(metadata={'modul': 'betriebssystemeinführung'}, page_content='BETRIEBSSYSTEMEINFÜHRUNG\\nModul: Betriebssystemeinführung\\nModul (englisch): Introduction to Operating Systems\\nStudiengang: Praktische Informatik, Bachelor, ASPO 01.10.2022\\nCode: PIB-BSE\\nSAP-Submodul-Nr.: P221-0014\\nSemesterwochenstunden / Lehrform: 2V (2 SWS)\\nECTS-Punkte: 3\\nStudiensemester: 1\\nPflichtfach: Ja\\nArbeitssprache: Deutsch\\nPrüfungsart: Klausur (120 Minuten)\\n\\nVerwendbarkeit:\\nPflichtmodul im 1. Semester des Studiengangs Praktische Informatik (ASPO 01.10.2022)\\nBETRIEBSSYSTEMEINFÜHRUNG')]"
      ]
     },
     "execution_count": 2,
     "metadata": {},
     "output_type": "execute_result"
    }
   ],
   "execution_count": 2
  }
 ],
 "metadata": {
  "kernelspec": {
   "display_name": "Python 3",
   "language": "python",
   "name": "python3"
  },
  "language_info": {
   "codemirror_mode": {
    "name": "ipython",
    "version": 2
   },
   "file_extension": ".py",
   "mimetype": "text/x-python",
   "name": "python",
   "nbconvert_exporter": "python",
   "pygments_lexer": "ipython2",
   "version": "2.7.6"
  }
 },
 "nbformat": 4,
 "nbformat_minor": 5
}
