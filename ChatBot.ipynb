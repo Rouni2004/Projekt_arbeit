{
 "cells": [
  {
   "cell_type": "code",
   "id": "initial_id",
   "metadata": {
    "collapsed": true,
    "ExecuteTime": {
     "end_time": "2025-05-07T08:59:35.648Z",
     "start_time": "2025-05-07T08:59:12.180957Z"
    }
   },
   "source": [
    "import os\n",
    "import json\n",
    "from langchain_ollama import OllamaLLM\n",
    "from langchain.prompts import PromptTemplate\n",
    "from langchain.chains import RetrievalQA\n",
    "from langchain.document_loaders import PyPDFLoader\n",
    "from langchain.text_splitter import RecursiveCharacterTextSplitter\n",
    "from langchain.vectorstores import FAISS\n",
    "from langchain.embeddings import OllamaEmbeddings\n",
    "from jinja2 import Template\n",
    "\n",
    "pdf_path = \"INFO1 grundlagen.pdf\"\n",
    "loader = PyPDFLoader(pdf_path)\n",
    "document = loader.load()\n",
    "\n",
    "splitter = RecursiveCharacterTextSplitter(chunk_size=1000, chunk_overlap=100)\n",
    "docs = splitter.split_documents(document)\n",
    "\n",
    "embeddings = OllamaEmbeddings(model=\"gemma:7b\")\n",
    "db = FAISS.from_documents(docs, embeddings)\n",
    "retriever = db.as_retriever()\n",
    "\n",
    "# LLM-Setup\n",
    "llm = OllamaLLM(\n",
    "    base_url=\"http://134.96.217.20:53100\",\n",
    "    model=\"gemma:7b\",\n",
    "    temperature=0.7,\n",
    "    top_p=0.9,\n",
    "    top_k=20,\n",
    "    repeat_penalty=1.2,\n",
    "    presence_penalty=1.5\n",
    ")\n",
    "prompt = PromptTemplate(\n",
    "    input_variables=[\"frage\"],\n",
    "    template=(\n",
    "        \"Du bist ein freundlicher Assistent, der Kindern auf ihre Fragen antwortet.\\n\"\n",
    "        \"Erkläre Dinge in einfacher, kindgerechter Sprache, damit Kinder im Alter von 6 bis 10 Jahren sie gut verstehen können.\\n\"\n",
    "        \"Sei positiv, ermutigend und benutze kurze, klare Sätze.\\n\"\n",
    "        \"Wenn es passt, darfst du Beispiele oder kleine Vergleiche verwenden, damit es noch besser verständlich wird.\\n\\n\"\n",
    "        \"Frage: {frage}\\n\"\n",
    "        \"Antwort:\"\n",
    "    )\n",
    ")\n",
    "\n",
    "qa_chain = RetrievalQA.from_chain_type(llm=llm, retriever=retriever, chain_type_kwargs={\"prompt\": prompt})\n",
    "\n",
    "html_template_str = \"\"\"\n",
    "<h1>Chatbot-Antwort aus Dokument</h1>\n",
    "<p><strong>Frage:</strong> {{ frage }}</p>\n",
    "<p><strong>Antwort:</strong> {{ antwort }}</p>\n",
    "<p><strong>Beispiel:</strong> {{ beispiel }}</p>\n",
    "\"\"\"\n",
    "\n",
    "print(\"🤖 Chatbot gestartet! Tipp 'exit' oder 'quit' zum Beenden.\\n\")\n",
    "\n",
    "# Chat-Schleife\n",
    "while True:\n",
    "    user_input = input(\"Du: \")\n",
    "    if user_input.lower() in [\"exit\", \"quit\"]:\n",
    "        print(\"🤖 Bot: Auf Wiedersehen!\")\n",
    "        break\n",
    "try:\n",
    "    response_text = qa_chain.run(user_input)\n",
    "\n",
    "    try:\n",
    "        response = json.loads(response_text)\n",
    "        print(\"🤖 Bot:\")\n",
    "        print(json.dumps(response, indent=2, ensure_ascii=False))\n",
    "\n",
    "        html_template = Template(html_template_str)\n",
    "        html_content = html_template.render(\n",
    "            frage=user_input,\n",
    "            antwort=response.get('answer', 'Keine Antwort gefunden.'),\n",
    "            beispiel=response.get('example', 'Kein Beispiel verfügbar.')\n",
    "        )\n",
    "        safe_filename = user_input[:30].replace(' ', '_').replace('?', '').replace('/', '')\n",
    "        pdf_filename = f\"antwort_{safe_filename}.pdf\"\n",
    "        #HTML(string=html_content).write_pdf(pdf_filename)\n",
    "        print(f\"📄 PDF gespeichert als: {pdf_filename}\")\n",
    "\n",
    "    except json.JSONDecodeError:\n",
    "        print(\"⚠️ Die Antwort war kein gültiges JSON:\")\n",
    "        print(response_text)\n",
    "\n",
    "except Exception as e:\n",
    "    print(f\"⚠️ Fehler: {e}\")\n",
    "\n"
   ],
   "outputs": [
    {
     "name": "stderr",
     "output_type": "stream",
     "text": [
      "C:\\Users\\marim\\AppData\\Local\\Temp\\ipykernel_18912\\3134179662.py:19: LangChainDeprecationWarning: The class `OllamaEmbeddings` was deprecated in LangChain 0.3.1 and will be removed in 1.0.0. An updated version of the class exists in the :class:`~langchain-ollama package and should be used instead. To use it run `pip install -U :class:`~langchain-ollama` and import as `from :class:`~langchain_ollama import OllamaEmbeddings``.\n",
      "  embeddings = OllamaEmbeddings(model=\"gemma:7b\")\n"
     ]
    },
    {
     "ename": "ValueError",
     "evalue": "Error raised by inference API HTTP code: 500, {\"error\":\"model requires more system memory (9.5 GiB) than is available (8.9 GiB)\"}",
     "output_type": "error",
     "traceback": [
      "\u001B[31m---------------------------------------------------------------------------\u001B[39m",
      "\u001B[31mValueError\u001B[39m                                Traceback (most recent call last)",
      "\u001B[36mCell\u001B[39m\u001B[36m \u001B[39m\u001B[32mIn[5]\u001B[39m\u001B[32m, line 20\u001B[39m\n\u001B[32m     17\u001B[39m docs = splitter.split_documents(document)\n\u001B[32m     19\u001B[39m embeddings = OllamaEmbeddings(model=\u001B[33m\"\u001B[39m\u001B[33mgemma:7b\u001B[39m\u001B[33m\"\u001B[39m)\n\u001B[32m---> \u001B[39m\u001B[32m20\u001B[39m db = \u001B[43mFAISS\u001B[49m\u001B[43m.\u001B[49m\u001B[43mfrom_documents\u001B[49m\u001B[43m(\u001B[49m\u001B[43mdocs\u001B[49m\u001B[43m,\u001B[49m\u001B[43m \u001B[49m\u001B[43membeddings\u001B[49m\u001B[43m)\u001B[49m\n\u001B[32m     21\u001B[39m retriever = db.as_retriever()\n\u001B[32m     23\u001B[39m \u001B[38;5;66;03m# LLM-Setup\u001B[39;00m\n",
      "\u001B[36mFile \u001B[39m\u001B[32m~\\AppData\\Local\\Programs\\Python\\Python312\\Lib\\site-packages\\langchain_core\\vectorstores\\base.py:848\u001B[39m, in \u001B[36mVectorStore.from_documents\u001B[39m\u001B[34m(cls, documents, embedding, **kwargs)\u001B[39m\n\u001B[32m    845\u001B[39m     \u001B[38;5;28;01mif\u001B[39;00m \u001B[38;5;28many\u001B[39m(ids):\n\u001B[32m    846\u001B[39m         kwargs[\u001B[33m\"\u001B[39m\u001B[33mids\u001B[39m\u001B[33m\"\u001B[39m] = ids\n\u001B[32m--> \u001B[39m\u001B[32m848\u001B[39m \u001B[38;5;28;01mreturn\u001B[39;00m \u001B[38;5;28;43mcls\u001B[39;49m\u001B[43m.\u001B[49m\u001B[43mfrom_texts\u001B[49m\u001B[43m(\u001B[49m\u001B[43mtexts\u001B[49m\u001B[43m,\u001B[49m\u001B[43m \u001B[49m\u001B[43membedding\u001B[49m\u001B[43m,\u001B[49m\u001B[43m \u001B[49m\u001B[43mmetadatas\u001B[49m\u001B[43m=\u001B[49m\u001B[43mmetadatas\u001B[49m\u001B[43m,\u001B[49m\u001B[43m \u001B[49m\u001B[43m*\u001B[49m\u001B[43m*\u001B[49m\u001B[43mkwargs\u001B[49m\u001B[43m)\u001B[49m\n",
      "\u001B[36mFile \u001B[39m\u001B[32m~\\AppData\\Local\\Programs\\Python\\Python312\\Lib\\site-packages\\langchain_community\\vectorstores\\faiss.py:1043\u001B[39m, in \u001B[36mFAISS.from_texts\u001B[39m\u001B[34m(cls, texts, embedding, metadatas, ids, **kwargs)\u001B[39m\n\u001B[32m   1016\u001B[39m \u001B[38;5;129m@classmethod\u001B[39m\n\u001B[32m   1017\u001B[39m \u001B[38;5;28;01mdef\u001B[39;00m\u001B[38;5;250m \u001B[39m\u001B[34mfrom_texts\u001B[39m(\n\u001B[32m   1018\u001B[39m     \u001B[38;5;28mcls\u001B[39m,\n\u001B[32m   (...)\u001B[39m\u001B[32m   1023\u001B[39m     **kwargs: Any,\n\u001B[32m   1024\u001B[39m ) -> FAISS:\n\u001B[32m   1025\u001B[39m \u001B[38;5;250m    \u001B[39m\u001B[33;03m\"\"\"Construct FAISS wrapper from raw documents.\u001B[39;00m\n\u001B[32m   1026\u001B[39m \n\u001B[32m   1027\u001B[39m \u001B[33;03m    This is a user friendly interface that:\u001B[39;00m\n\u001B[32m   (...)\u001B[39m\u001B[32m   1041\u001B[39m \u001B[33;03m            faiss = FAISS.from_texts(texts, embeddings)\u001B[39;00m\n\u001B[32m   1042\u001B[39m \u001B[33;03m    \"\"\"\u001B[39;00m\n\u001B[32m-> \u001B[39m\u001B[32m1043\u001B[39m     embeddings = \u001B[43membedding\u001B[49m\u001B[43m.\u001B[49m\u001B[43membed_documents\u001B[49m\u001B[43m(\u001B[49m\u001B[43mtexts\u001B[49m\u001B[43m)\u001B[49m\n\u001B[32m   1044\u001B[39m     \u001B[38;5;28;01mreturn\u001B[39;00m \u001B[38;5;28mcls\u001B[39m.__from(\n\u001B[32m   1045\u001B[39m         texts,\n\u001B[32m   1046\u001B[39m         embeddings,\n\u001B[32m   (...)\u001B[39m\u001B[32m   1050\u001B[39m         **kwargs,\n\u001B[32m   1051\u001B[39m     )\n",
      "\u001B[36mFile \u001B[39m\u001B[32m~\\AppData\\Local\\Programs\\Python\\Python312\\Lib\\site-packages\\langchain_community\\embeddings\\ollama.py:214\u001B[39m, in \u001B[36mOllamaEmbeddings.embed_documents\u001B[39m\u001B[34m(self, texts)\u001B[39m\n\u001B[32m    205\u001B[39m \u001B[38;5;250m\u001B[39m\u001B[33;03m\"\"\"Embed documents using an Ollama deployed embedding model.\u001B[39;00m\n\u001B[32m    206\u001B[39m \n\u001B[32m    207\u001B[39m \u001B[33;03mArgs:\u001B[39;00m\n\u001B[32m   (...)\u001B[39m\u001B[32m    211\u001B[39m \u001B[33;03m    List of embeddings, one for each text.\u001B[39;00m\n\u001B[32m    212\u001B[39m \u001B[33;03m\"\"\"\u001B[39;00m\n\u001B[32m    213\u001B[39m instruction_pairs = [\u001B[33mf\u001B[39m\u001B[33m\"\u001B[39m\u001B[38;5;132;01m{\u001B[39;00m\u001B[38;5;28mself\u001B[39m.embed_instruction\u001B[38;5;132;01m}\u001B[39;00m\u001B[38;5;132;01m{\u001B[39;00mtext\u001B[38;5;132;01m}\u001B[39;00m\u001B[33m\"\u001B[39m \u001B[38;5;28;01mfor\u001B[39;00m text \u001B[38;5;129;01min\u001B[39;00m texts]\n\u001B[32m--> \u001B[39m\u001B[32m214\u001B[39m embeddings = \u001B[38;5;28;43mself\u001B[39;49m\u001B[43m.\u001B[49m\u001B[43m_embed\u001B[49m\u001B[43m(\u001B[49m\u001B[43minstruction_pairs\u001B[49m\u001B[43m)\u001B[49m\n\u001B[32m    215\u001B[39m \u001B[38;5;28;01mreturn\u001B[39;00m embeddings\n",
      "\u001B[36mFile \u001B[39m\u001B[32m~\\AppData\\Local\\Programs\\Python\\Python312\\Lib\\site-packages\\langchain_community\\embeddings\\ollama.py:202\u001B[39m, in \u001B[36mOllamaEmbeddings._embed\u001B[39m\u001B[34m(self, input)\u001B[39m\n\u001B[32m    200\u001B[39m \u001B[38;5;28;01melse\u001B[39;00m:\n\u001B[32m    201\u001B[39m     iter_ = \u001B[38;5;28minput\u001B[39m\n\u001B[32m--> \u001B[39m\u001B[32m202\u001B[39m \u001B[38;5;28;01mreturn\u001B[39;00m [\u001B[38;5;28;43mself\u001B[39;49m\u001B[43m.\u001B[49m\u001B[43m_process_emb_response\u001B[49m\u001B[43m(\u001B[49m\u001B[43mprompt\u001B[49m\u001B[43m)\u001B[49m \u001B[38;5;28;01mfor\u001B[39;00m prompt \u001B[38;5;129;01min\u001B[39;00m iter_]\n",
      "\u001B[36mFile \u001B[39m\u001B[32m~\\AppData\\Local\\Programs\\Python\\Python312\\Lib\\site-packages\\langchain_community\\embeddings\\ollama.py:176\u001B[39m, in \u001B[36mOllamaEmbeddings._process_emb_response\u001B[39m\u001B[34m(self, input)\u001B[39m\n\u001B[32m    173\u001B[39m     \u001B[38;5;28;01mraise\u001B[39;00m \u001B[38;5;167;01mValueError\u001B[39;00m(\u001B[33mf\u001B[39m\u001B[33m\"\u001B[39m\u001B[33mError raised by inference endpoint: \u001B[39m\u001B[38;5;132;01m{\u001B[39;00me\u001B[38;5;132;01m}\u001B[39;00m\u001B[33m\"\u001B[39m)\n\u001B[32m    175\u001B[39m \u001B[38;5;28;01mif\u001B[39;00m res.status_code != \u001B[32m200\u001B[39m:\n\u001B[32m--> \u001B[39m\u001B[32m176\u001B[39m     \u001B[38;5;28;01mraise\u001B[39;00m \u001B[38;5;167;01mValueError\u001B[39;00m(\n\u001B[32m    177\u001B[39m         \u001B[33m\"\u001B[39m\u001B[33mError raised by inference API HTTP code: \u001B[39m\u001B[38;5;132;01m%s\u001B[39;00m\u001B[33m, \u001B[39m\u001B[38;5;132;01m%s\u001B[39;00m\u001B[33m\"\u001B[39m\n\u001B[32m    178\u001B[39m         % (res.status_code, res.text)\n\u001B[32m    179\u001B[39m     )\n\u001B[32m    180\u001B[39m \u001B[38;5;28;01mtry\u001B[39;00m:\n\u001B[32m    181\u001B[39m     t = res.json()\n",
      "\u001B[31mValueError\u001B[39m: Error raised by inference API HTTP code: 500, {\"error\":\"model requires more system memory (9.5 GiB) than is available (8.9 GiB)\"}"
     ]
    }
   ],
   "execution_count": 5
  }
 ],
 "metadata": {
  "kernelspec": {
   "display_name": "Python 3",
   "language": "python",
   "name": "python3"
  },
  "language_info": {
   "codemirror_mode": {
    "name": "ipython",
    "version": 2
   },
   "file_extension": ".py",
   "mimetype": "text/x-python",
   "name": "python",
   "nbconvert_exporter": "python",
   "pygments_lexer": "ipython2",
   "version": "2.7.6"
  }
 },
 "nbformat": 4,
 "nbformat_minor": 5
}
